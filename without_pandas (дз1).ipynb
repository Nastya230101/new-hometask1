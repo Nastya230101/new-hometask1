{
  "cells": [
    {
      "cell_type": "markdown",
      "metadata": {
        "id": "Uq7rmYFM_9Hx"
      },
      "source": [
        "<a target=\"_blank\" href=\"https://colab.research.google.com/github/da-python/new-modul-python/blob/main/Lesson1/hometask/without_pandas.ipynb\">\n",
        "  <img src=\"https://colab.research.google.com/assets/colab-badge.svg\" alt=\"Open In Colab\"/>\n",
        "</a>"
      ]
    },
    {
      "cell_type": "code",
      "execution_count": 8,
      "metadata": {
        "colab": {
          "base_uri": "https://localhost:8080/",
          "height": 322
        },
        "id": "sOBGNNTN_9H0",
        "outputId": "01f0e588-2b3b-489e-ccf1-7fa566eb2d37"
      },
      "outputs": [
        {
          "output_type": "execute_result",
          "data": {
            "text/plain": [
              "<IPython.lib.display.YouTubeVideo at 0x7f83b88b6ca0>"
            ],
            "text/html": [
              "\n",
              "        <iframe\n",
              "            width=\"800\"\n",
              "            height=\"300\"\n",
              "            src=\"https://www.youtube.com/embed/lyDLAutA88s\"\n",
              "            frameborder=\"0\"\n",
              "            allowfullscreen\n",
              "        ></iframe>\n",
              "        "
            ],
            "image/jpeg": "[encoded data removed]"
          },
          "metadata": {},
          "execution_count": 8
        }
      ],
      "source": [
        "from IPython.display import YouTubeVideo\n",
        "YouTubeVideo('lyDLAutA88s', width=800, height=300)"
      ]
    },
    {
      "cell_type": "code",
      "execution_count": null,
      "metadata": {
        "id": "IaZyiZIW_9H2"
      },
      "outputs": [],
      "source": [
        "# 1. Посмотрите видео Дэвида Бизли про всроенные инструменты Python\n",
        "# 2. Попробуйте используя встроенные инструменты Python проанализировать таблицу из файла \"vacancy.csv\"\n",
        "# 3. Попробуйте ответить на вопросы:\n",
        "# Сколько вакансий, которые вам нравятся?\n",
        "# Насколько актуальные эти вакансии?\n",
        "# Сколько вакансий с позициями на которых вы работаете?\n",
        "# Сколько вакансий для аналатика данных?\n",
        "# Сколько вакансий для аналитика данных с использованием Python?\n",
        "\n",
        "# В задании важно не использовать pandas и numpy, а встроенные инструменты python\n",
        "# Counter, csv, defaultdict, sorted\n",
        "\n",
        "# !!!ATTENTION!!! При запуске в ос windows возможны проблемы с чтением файла и кодировкой !!!\n",
        "# Для запуска в Google Colab запустите код в ячейке ниже"
      ]
    },
    {
      "cell_type": "code",
      "execution_count": 1,
      "metadata": {
        "colab": {
          "base_uri": "https://localhost:8080/"
        },
        "id": "wKK0O-s__9H2",
        "outputId": "00e2a1e9-6111-4e39-c9dc-9ef372dbe0cf"
      },
      "outputs": [
        {
          "output_type": "stream",
          "name": "stdout",
          "text": [
            "--2023-03-30 16:24:51--  https://github.com/da-python/new-modul-python/raw/main/Lesson1/hometask/vacancy.csv.zip\n",
            "Resolving github.com (github.com)... 140.82.113.4\n",
            "Connecting to github.com (github.com)|140.82.113.4|:443... connected.\n",
            "HTTP request sent, awaiting response... 302 Found\n",
            "Location: https://raw.githubusercontent.com/da-python/new-modul-python/main/Lesson1/hometask/vacancy.csv.zip [following]\n",
            "--2023-03-30 16:24:51--  https://raw.githubusercontent.com/da-python/new-modul-python/main/Lesson1/hometask/vacancy.csv.zip\n",
            "Resolving raw.githubusercontent.com (raw.githubusercontent.com)... 185.199.108.133, 185.199.109.133, 185.199.110.133, ...\n",
            "Connecting to raw.githubusercontent.com (raw.githubusercontent.com)|185.199.108.133|:443... connected.\n",
            "HTTP request sent, awaiting response... 200 OK\n",
            "Length: 10655066 (10M) [application/zip]\n",
            "Saving to: ‘vacancy.csv.zip’\n",
            "\n",
            "vacancy.csv.zip     100%[===================>]  10.16M  47.3MB/s    in 0.2s    \n",
            "\n",
            "2023-03-30 16:24:52 (47.3 MB/s) - ‘vacancy.csv.zip’ saved [10655066/10655066]\n",
            "\n",
            "Archive:  vacancy.csv.zip\n",
            "  inflating: vacancy.csv             \n"
          ]
        }
      ],
      "source": [
        "# Colab code\n",
        "\n",
        "!wget https://github.com/da-python/new-modul-python/raw/main/Lesson1/hometask/vacancy.csv.zip\n",
        "!unzip vacancy.csv.zip"
      ]
    },
    {
      "cell_type": "code",
      "execution_count": 2,
      "metadata": {
        "colab": {
          "base_uri": "https://localhost:8080/"
        },
        "id": "JfCMa_e4_9H3",
        "outputId": "c9ceb377-b238-406e-ccfe-946f4a6fd2f0"
      },
      "outputs": [
        {
          "output_type": "execute_result",
          "data": {
            "text/plain": [
              "131072"
            ]
          },
          "metadata": {},
          "execution_count": 2
        }
      ],
      "source": [
        "import csv\n",
        "import sys\n",
        "csv.field_size_limit(sys.maxsize)"
      ]
    },
    {
      "cell_type": "code",
      "execution_count": 3,
      "metadata": {
        "id": "zl4KDLiA_9H3"
      },
      "outputs": [],
      "source": [
        "vacs = list(csv.DictReader(open('vacancy.csv')))"
      ]
    },
    {
      "cell_type": "code",
      "execution_count": 4,
      "metadata": {
        "colab": {
          "base_uri": "https://localhost:8080/",
          "height": 36
        },
        "id": "QBPFXmuk_9H3",
        "outputId": "a640f3b1-9726-474e-ffd3-247b4a762eec"
      },
      "outputs": [
        {
          "output_type": "execute_result",
          "data": {
            "text/plain": [
              "'Senior java-разработчик (в команду Онбординга)'"
            ],
            "application/vnd.google.colaboratory.intrinsic+json": {
              "type": "string"
            }
          },
          "metadata": {},
          "execution_count": 4
        }
      ],
      "source": [
        "vacs [0].get ('vactitle')"
      ]
    },
    {
      "cell_type": "code",
      "source": [
        "vacs[0].keys()"
      ],
      "metadata": {
        "colab": {
          "base_uri": "https://localhost:8080/"
        },
        "id": "nKETHpqVWo1k",
        "outputId": "8ab59015-45cb-4a1d-8d1f-2155e08d3842"
      },
      "execution_count": 5,
      "outputs": [
        {
          "output_type": "execute_result",
          "data": {
            "text/plain": [
              "dict_keys(['id', 'created_at', 'updated_at', 'vacid', 'vactitle', 'vacdescription', 'vacdate', 'vacstatus', 'vaclink', 'vachtml'])"
            ]
          },
          "metadata": {},
          "execution_count": 5
        }
      ]
    },
    {
      "cell_type": "code",
      "source": [
        "new_vacs = []\n",
        "for vac in vacs:\n",
        "  nvac = {}\n",
        "  for k, v in vac.items():\n",
        "    if k != 'vachtml':\n",
        "      nvac[k] = v\n",
        "  new_vacs.append(nvac)"
      ],
      "metadata": {
        "id": "po01_2hpDBMn"
      },
      "execution_count": 6,
      "outputs": []
    },
    {
      "cell_type": "code",
      "source": [
        "new_vacs[-1]"
      ],
      "metadata": {
        "colab": {
          "base_uri": "https://localhost:8080/"
        },
        "id": "rNgrvd9tFVq5",
        "outputId": "668e0316-5009-4122-d658-ada1179d4eb4"
      },
      "execution_count": 7,
      "outputs": [
        {
          "output_type": "execute_result",
          "data": {
            "text/plain": [
              "{'id': '383478',\n",
              " 'created_at': '2021-03-14 09:39:21.854462',\n",
              " 'updated_at': '2021-03-14 09:39:21.854584',\n",
              " 'vacid': '1474689',\n",
              " 'vactitle': 'Мобильный менеджер по продажам со знанием таджикского/узбекского/кыргызского языков',\n",
              " 'vacdescription': 'Мы предлагаем: - оформление согласно трудовому кодексу РФ;- оклад плюс система премий по результатам работы (ежемесячная и годовая премии);- ДМС и материальная поддержка;- корпоративное обучение;- профессиональный и карьерный рост;- яркая и насыщенная корпоративная жизнь (праздники, соревнования, спортивные мероприятия);- скидки на продукты Сбербанка и экосистемы. Работая в Сбербанке, ты меняешь жизнь людей вокруг себя к лучшему! Интересна вакансия? - жми «откликнуться»;- запиши видеоинтервью по ссылке из смс или письма с любого удобного устройства;- пройди собеседование с руководителем. Мы ждем тебя, чтобы строить счастливое будущее вместе! Контактная информацияКоманда подбора персонала Сбербанка+7 (495) 742-60-50от 73 000 руб. до вычета налогов Задача мобильного менеджера ― продавать продукты Сбербанка через планшет и терминалы самообслуживания. Эта должность подойдет тем, кто готов к работе на «ногах», открыт к новому и нацелен на развитие в продажах.Если хочешь овладеть навыком эффективных продаж и не останавливаться на достигнутом, то работа мобильного менеджера по продажам в Сбербанке точно для тебя. Перед тобой открыты возможности вертикального и горизонтального развития: рост по карьерной лестнице или переход в другие отделения и города.Присоединяйся к нашей команде Сбербанка! Задачи: - продавать продукты банка и экосистемы;- помогать клиентам оформлять услуги на планшете, личном устройстве клиента или на устройстве самообслуживания в офисе банка. Ждем от кандидата: - образование от общего среднего;- владение языками таджикским или узбекским или кыргызским;- опыт работы в сфере услуг от 3 месяцев;- грамотная и чистая речь;- умение прояснять потребности клиента и вовлекать в диалог;- устойчивость к возражениям и способность находить аргументы;- ориентация на клиента и умение предлагать лучшие для него решения;- амбициозность и желание совершенствоваться в продажах.от 73 000 руб. до вычета налогов Задача мобильного менеджера ― продавать продукты Сбербанка через планшет и терминалы самообслуживания. Эта должность подойдет тем, кто готов к работе на «ногах», открыт к новому и нацелен на развитие в продажах.Если хочешь овладеть навыком эффективных продаж и не останавливаться на достигнутом, то работа мобильного менеджера по продажам в Сбербанке точно для тебя. Перед тобой открыты возможности вертикального и горизонтального развития: рост по карьерной лестнице или переход в другие отделения и города.Присоединяйся к нашей команде Сбербанка! Задачи: - продавать продукты банка и экосистемы;- помогать клиентам оформлять услуги на планшете, личном устройстве клиента или на устройстве самообслуживания в офисе банка. Ждем от кандидата: - образование от общего среднего;- владение языками таджикским или узбекским или кыргызским;- опыт работы в сфере услуг от 3 месяцев;- грамотная и чистая речь;- умение прояснять потребности клиента и вовлекать в диалог;- устойчивость к возражениям и способность находить аргументы;- ориентация на клиента и умение предлагать лучшие для него решения;- амбициозность и желание совершенствоваться в продажах. - оформление согласно трудовому кодексу РФ;- оклад плюс система премий по результатам работы (ежемесячная и годовая премии);- ДМС и материальная поддержка;- корпоративное обучение;- профессиональный и карьерный рост;- яркая и насыщенная корпоративная жизнь (праздники, соревнования, спортивные мероприятия);- скидки на продукты Сбербанка и экосистемы. Работая в Сбербанке, ты меняешь жизнь людей вокруг себя к лучшему! Интересна вакансия? - жми «откликнуться»;- запиши видеоинтервью по ссылке из смс или письма с любого удобного устройства;- пройди собеседование с руководителем. Мы ждем тебя, чтобы строить счастливое будущее вместе! Контактная информацияКоманда подбора персонала Сбербанка+7 (495) 742-60-50',\n",
              " 'vacdate': '2021-03-15',\n",
              " 'vacstatus': 'new',\n",
              " 'vaclink': 'https://my.sbertalents.ru/#/job-requisition/1474689'}"
            ]
          },
          "metadata": {},
          "execution_count": 7
        }
      ]
    },
    {
      "cell_type": "code",
      "source": [
        "like_vacs = []\n",
        "for vac in new_vacs:\n",
        "  if vac.get('vactitle').lower().find('сбербанк') != -1:\n",
        "    like_vacs.append(nvac)\n",
        "\n",
        "print(f'Вакансий, которые мне нравятся {len(like_vacs)} шт')"
      ],
      "metadata": {
        "colab": {
          "base_uri": "https://localhost:8080/"
        },
        "id": "PLxgLLmxW8Q5",
        "outputId": "09819d0b-ee3f-4666-de50-46001b779f5c"
      },
      "execution_count": 8,
      "outputs": [
        {
          "output_type": "stream",
          "name": "stdout",
          "text": [
            "Вакансий, которые мне нравятся 51 шт\n"
          ]
        }
      ]
    },
    {
      "cell_type": "code",
      "source": [
        "a_vacs = []\n",
        "for vac in new_vacs:\n",
        "  if (vac.get('vactitle').lower().find('аналитик') != -1) and (vac.get('vactitle').lower().find('данных') != -1):\n",
        "    a_vacs.append(nvac)\n",
        "\n",
        "print(f'Вакансий, аналитика дананых {len(a_vacs)} шт')"
      ],
      "metadata": {
        "colab": {
          "base_uri": "https://localhost:8080/"
        },
        "id": "PI2OKDLXW8nn",
        "outputId": "757fd2f3-52cb-46a1-b525-b0d44859a0ea"
      },
      "execution_count": 9,
      "outputs": [
        {
          "output_type": "stream",
          "name": "stdout",
          "text": [
            "Вакансий, аналитика дананых 40 шт\n"
          ]
        }
      ]
    },
    {
      "cell_type": "code",
      "source": [],
      "metadata": {
        "id": "Ij37IVZFZona"
      },
      "execution_count": null,
      "outputs": []
    },
    {
      "cell_type": "code",
      "source": [
        "a_vacs = []\n",
        "for vac in new_vacs:\n",
        "  if (vac.get('vactitle').lower().find('аналитик') != -1) and (vac.get('vactitle').lower().find('данных') != -1) and (vac.get('vactitle').lower().find('Python') != -1):\n",
        "    a_vacs.append(nvac)\n",
        "\n",
        "print(f'Вакансий, аналитика дананых Python {len(a_vacs)} шт')"
      ],
      "metadata": {
        "id": "qmuuX6orYQ4j",
        "outputId": "b15a0320-2fc3-48c7-c4e5-4205b9cdcf6a",
        "colab": {
          "base_uri": "https://localhost:8080/"
        }
      },
      "execution_count": 12,
      "outputs": [
        {
          "output_type": "stream",
          "name": "stdout",
          "text": [
            "Вакансий, аналитика дананых Python 0 шт\n"
          ]
        }
      ]
    },
    {
      "cell_type": "code",
      "source": [
        "a_vacs = []\n",
        "for vac in new_vacs:\n",
        "  a_vacs.append(vac.get('vacdate'))\n"
      ],
      "metadata": {
        "id": "q4aqetPgaD4C"
      },
      "execution_count": 19,
      "outputs": []
    },
    {
      "cell_type": "code",
      "source": [
        "list(set(a_vacs))"
      ],
      "metadata": {
        "id": "uZrGoXH3fZDY",
        "outputId": "56c4a73c-f6c6-4dd1-d3bd-5f28cce18684",
        "colab": {
          "base_uri": "https://localhost:8080/"
        }
      },
      "execution_count": 20,
      "outputs": [
        {
          "output_type": "execute_result",
          "data": {
            "text/plain": [
              "['',\n",
              " '2020-10-21',\n",
              " '2020-10-30',\n",
              " '2021-01-25',\n",
              " '2021-01-28',\n",
              " '2020-11-09',\n",
              " '2021-02-25',\n",
              " '2020-12-17',\n",
              " '2021-02-17',\n",
              " '2021-02-14',\n",
              " '2020-11-12',\n",
              " '2021-02-02',\n",
              " '2021-03-12',\n",
              " '2020-10-16',\n",
              " '2021-01-29',\n",
              " '2021-02-09',\n",
              " '2021-01-08',\n",
              " '2020-10-15',\n",
              " '2021-02-05',\n",
              " '2020-11-16',\n",
              " '2021-01-11',\n",
              " '2021-03-17',\n",
              " '2021-03-07',\n",
              " '2020-12-21',\n",
              " '2021-01-20',\n",
              " '2021-03-01',\n",
              " '2021-03-14',\n",
              " '2020-11-25',\n",
              " '2021-03-04',\n",
              " '2021-01-26',\n",
              " '2020-12-28',\n",
              " '2021-02-22',\n",
              " '2020-12-03',\n",
              " '2020-11-13',\n",
              " '2020-12-07',\n",
              " '2021-03-11',\n",
              " '2021-03-02',\n",
              " '2021-02-13',\n",
              " '2020-10-26',\n",
              " '2020-11-24',\n",
              " '2020-12-15',\n",
              " '2020-12-24',\n",
              " '2021-03-05',\n",
              " '2020-10-28',\n",
              " '2020-11-02',\n",
              " '2021-02-12',\n",
              " '2020-12-16',\n",
              " '2021-02-24',\n",
              " '2021-02-19',\n",
              " '2020-11-27',\n",
              " '2020-10-20',\n",
              " '2020-12-30',\n",
              " '2021-03-13',\n",
              " '2020-12-18',\n",
              " '2020-11-26',\n",
              " '2021-01-15',\n",
              " '2020-12-31',\n",
              " '2021-01-23',\n",
              " '2021-01-14',\n",
              " '2021-01-03',\n",
              " '2020-10-27',\n",
              " '2021-01-13',\n",
              " '2021-02-04',\n",
              " '2020-12-02',\n",
              " '2021-02-18',\n",
              " '2021-02-20',\n",
              " '2021-02-23',\n",
              " '2021-01-10',\n",
              " '2021-03-16',\n",
              " '2021-02-11',\n",
              " '2021-02-26',\n",
              " '2021-01-27',\n",
              " '2021-03-09',\n",
              " '2021-02-01',\n",
              " '2021-02-08',\n",
              " '2021-01-22',\n",
              " '2020-12-29',\n",
              " '2021-01-18',\n",
              " '2020-11-19',\n",
              " '2020-12-14',\n",
              " '2021-01-24',\n",
              " '2020-11-05',\n",
              " '2020-11-23',\n",
              " '2021-02-16',\n",
              " '2021-01-12',\n",
              " '2020-11-17',\n",
              " '2021-02-28',\n",
              " '2021-01-21',\n",
              " '2020-11-11',\n",
              " '2020-10-19',\n",
              " '2020-11-20',\n",
              " '2021-02-27',\n",
              " '2020-11-30',\n",
              " '2021-01-31',\n",
              " '2020-11-10',\n",
              " '2020-10-23',\n",
              " '2020-12-04',\n",
              " '2020-10-29',\n",
              " '2020-12-11',\n",
              " '2021-03-15',\n",
              " '2020-11-06',\n",
              " '2020-11-18',\n",
              " '2021-03-03',\n",
              " '2021-02-10',\n",
              " '2021-03-08',\n",
              " '2021-02-15',\n",
              " '2021-01-19',\n",
              " '2020-12-22',\n",
              " '2021-02-03',\n",
              " '2021-02-07',\n",
              " '2020-12-10',\n",
              " '2021-03-10',\n",
              " '2020-12-08',\n",
              " '2020-12-01',\n",
              " '2020-12-09',\n",
              " '2020-12-25']"
            ]
          },
          "metadata": {},
          "execution_count": 20
        }
      ]
    },
    {
      "cell_type": "code",
      "source": [
        "a_vacs = []\n",
        "for vac in new_vacs:\n",
        "  if (vac.get('vactitle').lower().find('аналитик') != -1) and (vac.get('vactitle').lower().find('кредитный') != -1):\n",
        "    a_vacs.append(nvac)\n",
        "\n",
        "print(f'Вакансий, кредитный аналитик {len(a_vacs)} шт')"
      ],
      "metadata": {
        "id": "KIgCbl9xgEEX",
        "outputId": "0b7a572e-5b61-407f-f854-990aa01b7270",
        "colab": {
          "base_uri": "https://localhost:8080/"
        }
      },
      "execution_count": 21,
      "outputs": [
        {
          "output_type": "stream",
          "name": "stdout",
          "text": [
            "Вакансий, кредитный аналитик 23 шт\n"
          ]
        }
      ]
    }
  ],
  "metadata": {
    "kernelspec": {
      "display_name": "Python 3 (ipykernel)",
      "language": "python",
      "name": "python3"
    },
    "language_info": {
      "codemirror_mode": {
        "name": "ipython",
        "version": 3
      },
      "file_extension": ".py",
      "mimetype": "text/x-python",
      "name": "python",
      "nbconvert_exporter": "python",
      "pygments_lexer": "ipython3",
      "version": "3.9.13"
    },
    "colab": {
      "provenance": []
    }
  },
  "nbformat": 4,
  "nbformat_minor": 0
}