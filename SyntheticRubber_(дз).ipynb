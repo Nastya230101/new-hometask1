{
  "cells": [
    {
      "cell_type": "markdown",
      "metadata": {
        "id": "R-za9Z8WoYZm"
      },
      "source": [
        "<a target=\"_blank\" href=\"https://colab.research.google.com/github/da-python/new-modul-python/blob/main/Lesson3/hometask/SyntheticRubber.ipynb\">\n",
        "  <img src=\"https://colab.research.google.com/assets/colab-badge.svg\" alt=\"Open In Colab\"/>\n",
        "</a>"
      ]
    },
    {
      "cell_type": "code",
      "execution_count": 61,
      "metadata": {
        "colab": {
          "base_uri": "https://localhost:8080/"
        },
        "id": "5E6ggI1LoYZr",
        "outputId": "5e7bc649-29c5-49db-b020-0e0239ed0baa"
      },
      "outputs": [
        {
          "output_type": "stream",
          "name": "stdout",
          "text": [
            "Looking in indexes: https://pypi.org/simple, https://us-python.pkg.dev/colab-wheels/public/simple/\n",
            "Requirement already satisfied: xmltodict in /usr/local/lib/python3.9/dist-packages (0.13.0)\n",
            "Looking in indexes: https://pypi.org/simple, https://us-python.pkg.dev/colab-wheels/public/simple/\n",
            "Collecting compare\n",
            "  Downloading compare-0.2b.zip (25 kB)\n",
            "  Preparing metadata (setup.py) ... \u001b[?25l\u001b[?25hdone\n",
            "Building wheels for collected packages: compare\n",
            "  Building wheel for compare (setup.py) ... \u001b[?25l\u001b[?25hdone\n",
            "  Created wheel for compare: filename=compare-0.2b0-py3-none-any.whl size=8634 sha256=5e17d500cd0d5796098d1a9c4b60769626f5927588c746c54df50ddc48ac9c4a\n",
            "  Stored in directory: /root/.cache/pip/wheels/85/bd/3b/6ca5932e84291962c23195067db54b3f48d9672760503cacb1\n",
            "Successfully built compare\n",
            "Installing collected packages: compare\n",
            "Successfully installed compare-0.2b0\n"
          ]
        }
      ],
      "source": [
        "# !pip install yfinance\n",
        "!pip install xmltodict\n",
        "!pip install compare"
      ]
    },
    {
      "cell_type": "code",
      "execution_count": 69,
      "metadata": {
        "id": "8zs3aPUxoYZt"
      },
      "outputs": [],
      "source": [
        "import yfinance as yf\n",
        "import pandas as pd\n",
        "import requests\n",
        "import xmltodict\n",
        "import json\n",
        "import matplotlib.pyplot as plt\n",
        "import os"
      ]
    },
    {
      "cell_type": "code",
      "execution_count": 70,
      "metadata": {
        "colab": {
          "base_uri": "https://localhost:8080/"
        },
        "id": "tX6UHhrHoYZu",
        "outputId": "58ffa827-c8ac-4788-ddcd-218d7401035e"
      },
      "outputs": [
        {
          "output_type": "stream",
          "name": "stdout",
          "text": [
            "[*********************100%***********************]  1 of 1 completed\n",
            "[*********************100%***********************]  1 of 1 completed\n",
            "[*********************100%***********************]  1 of 1 completed\n"
          ]
        }
      ],
      "source": [
        "crude_oil_ticker = \"CL=F\"\n",
        "euro_usd = 'EURUSD=X'\n",
        "usd_rub = 'RUB=X'\n",
        "crude_oil = yf.Ticker(crude_oil_ticker)\n",
        "#hist = crude_oil.history()\n",
        "Oil_price_all = yf.download(crude_oil_ticker)\n",
        "euro_price_all = yf.download(euro_usd)\n",
        "rub_price_all = yf.download(usd_rub)"
      ]
    },
    {
      "cell_type": "code",
      "execution_count": 71,
      "metadata": {
        "colab": {
          "base_uri": "https://localhost:8080/"
        },
        "id": "X6caQg3roYZu",
        "outputId": "ac732687-16fa-4de6-d491-879351763dcd"
      },
      "outputs": [
        {
          "output_type": "stream",
          "name": "stdout",
          "text": [
            "\r[*********************100%***********************]  1 of 1 completed\n"
          ]
        }
      ],
      "source": [
        "data = yf.download(crude_oil_ticker)"
      ]
    },
    {
      "cell_type": "code",
      "source": [
        "crude_oil_ticker = \"CL=F\"\n",
        "exr_eurusd_ticker = \"EURUSD=X\"\n",
        "crude_oil = yf.download(crude_oil_ticker)\n",
        "#crude_oil\n",
        "exr = yf.download(exr_eurusd_ticker)\n",
        "exr"
      ],
      "metadata": {
        "colab": {
          "base_uri": "https://localhost:8080/",
          "height": 489
        },
        "id": "uvsux-aMp543",
        "outputId": "53efdabf-9aca-42c8-cc45-f49594f5d03f"
      },
      "execution_count": 72,
      "outputs": [
        {
          "output_type": "stream",
          "name": "stdout",
          "text": [
            "[*********************100%***********************]  1 of 1 completed\n",
            "[*********************100%***********************]  1 of 1 completed\n"
          ]
        },
        {
          "output_type": "execute_result",
          "data": {
            "text/plain": [
              "                Open      High       Low     Close  Adj Close  Volume\n",
              "Date                                                                 \n",
              "2003-12-01  1.203398  1.204007  1.194401  1.196501   1.196501       0\n",
              "2003-12-02  1.196101  1.210903  1.194600  1.208897   1.208897       0\n",
              "2003-12-03  1.209000  1.213003  1.207700  1.212298   1.212298       0\n",
              "2003-12-04  1.212004  1.214403  1.204398  1.208094   1.208094       0\n",
              "2003-12-05  1.207802  1.219096  1.206593  1.218695   1.218695       0\n",
              "...              ...       ...       ...       ...        ...     ...\n",
              "2023-04-18  1.092538  1.098346  1.092275  1.092538   1.092538       0\n",
              "2023-04-19  1.097538  1.098660  1.091834  1.097538   1.097538       0\n",
              "2023-04-20  1.095218  1.098901  1.093434  1.095218   1.095218       0\n",
              "2023-04-21  1.097093  1.099251  1.093972  1.097093   1.097093       0\n",
              "2023-04-24  1.099143  1.105583  1.096972  1.104972   1.104972       0\n",
              "\n",
              "[5032 rows x 6 columns]"
            ],
            "text/html": [
              "\n",
              "  <div id=\"df-8816aa8e-91f9-450f-844f-885efdab8c71\">\n",
              "    <div class=\"colab-df-container\">\n",
              "      <div>\n",
              "<style scoped>\n",
              "    .dataframe tbody tr th:only-of-type {\n",
              "        vertical-align: middle;\n",
              "    }\n",
              "\n",
              "    .dataframe tbody tr th {\n",
              "        vertical-align: top;\n",
              "    }\n",
              "\n",
              "    .dataframe thead th {\n",
              "        text-align: right;\n",
              "    }\n",
              "</style>\n",
              "<table border=\"1\" class=\"dataframe\">\n",
              "  <thead>\n",
              "    <tr style=\"text-align: right;\">\n",
              "      <th></th>\n",
              "      <th>Open</th>\n",
              "      <th>High</th>\n",
              "      <th>Low</th>\n",
              "      <th>Close</th>\n",
              "      <th>Adj Close</th>\n",
              "      <th>Volume</th>\n",
              "    </tr>\n",
              "    <tr>\n",
              "      <th>Date</th>\n",
              "      <th></th>\n",
              "      <th></th>\n",
              "      <th></th>\n",
              "      <th></th>\n",
              "      <th></th>\n",
              "      <th></th>\n",
              "    </tr>\n",
              "  </thead>\n",
              "  <tbody>\n",
              "    <tr>\n",
              "      <th>2003-12-01</th>\n",
              "      <td>1.203398</td>\n",
              "      <td>1.204007</td>\n",
              "      <td>1.194401</td>\n",
              "      <td>1.196501</td>\n",
              "      <td>1.196501</td>\n",
              "      <td>0</td>\n",
              "    </tr>\n",
              "    <tr>\n",
              "      <th>2003-12-02</th>\n",
              "      <td>1.196101</td>\n",
              "      <td>1.210903</td>\n",
              "      <td>1.194600</td>\n",
              "      <td>1.208897</td>\n",
              "      <td>1.208897</td>\n",
              "      <td>0</td>\n",
              "    </tr>\n",
              "    <tr>\n",
              "      <th>2003-12-03</th>\n",
              "      <td>1.209000</td>\n",
              "      <td>1.213003</td>\n",
              "      <td>1.207700</td>\n",
              "      <td>1.212298</td>\n",
              "      <td>1.212298</td>\n",
              "      <td>0</td>\n",
              "    </tr>\n",
              "    <tr>\n",
              "      <th>2003-12-04</th>\n",
              "      <td>1.212004</td>\n",
              "      <td>1.214403</td>\n",
              "      <td>1.204398</td>\n",
              "      <td>1.208094</td>\n",
              "      <td>1.208094</td>\n",
              "      <td>0</td>\n",
              "    </tr>\n",
              "    <tr>\n",
              "      <th>2003-12-05</th>\n",
              "      <td>1.207802</td>\n",
              "      <td>1.219096</td>\n",
              "      <td>1.206593</td>\n",
              "      <td>1.218695</td>\n",
              "      <td>1.218695</td>\n",
              "      <td>0</td>\n",
              "    </tr>\n",
              "    <tr>\n",
              "      <th>...</th>\n",
              "      <td>...</td>\n",
              "      <td>...</td>\n",
              "      <td>...</td>\n",
              "      <td>...</td>\n",
              "      <td>...</td>\n",
              "      <td>...</td>\n",
              "    </tr>\n",
              "    <tr>\n",
              "      <th>2023-04-18</th>\n",
              "      <td>1.092538</td>\n",
              "      <td>1.098346</td>\n",
              "      <td>1.092275</td>\n",
              "      <td>1.092538</td>\n",
              "      <td>1.092538</td>\n",
              "      <td>0</td>\n",
              "    </tr>\n",
              "    <tr>\n",
              "      <th>2023-04-19</th>\n",
              "      <td>1.097538</td>\n",
              "      <td>1.098660</td>\n",
              "      <td>1.091834</td>\n",
              "      <td>1.097538</td>\n",
              "      <td>1.097538</td>\n",
              "      <td>0</td>\n",
              "    </tr>\n",
              "    <tr>\n",
              "      <th>2023-04-20</th>\n",
              "      <td>1.095218</td>\n",
              "      <td>1.098901</td>\n",
              "      <td>1.093434</td>\n",
              "      <td>1.095218</td>\n",
              "      <td>1.095218</td>\n",
              "      <td>0</td>\n",
              "    </tr>\n",
              "    <tr>\n",
              "      <th>2023-04-21</th>\n",
              "      <td>1.097093</td>\n",
              "      <td>1.099251</td>\n",
              "      <td>1.093972</td>\n",
              "      <td>1.097093</td>\n",
              "      <td>1.097093</td>\n",
              "      <td>0</td>\n",
              "    </tr>\n",
              "    <tr>\n",
              "      <th>2023-04-24</th>\n",
              "      <td>1.099143</td>\n",
              "      <td>1.105583</td>\n",
              "      <td>1.096972</td>\n",
              "      <td>1.104972</td>\n",
              "      <td>1.104972</td>\n",
              "      <td>0</td>\n",
              "    </tr>\n",
              "  </tbody>\n",
              "</table>\n",
              "<p>5032 rows × 6 columns</p>\n",
              "</div>\n",
              "      <button class=\"colab-df-convert\" onclick=\"convertToInteractive('df-8816aa8e-91f9-450f-844f-885efdab8c71')\"\n",
              "              title=\"Convert this dataframe to an interactive table.\"\n",
              "              style=\"display:none;\">\n",
              "        \n",
              "  <svg xmlns=\"http://www.w3.org/2000/svg\" height=\"24px\"viewBox=\"0 0 24 24\"\n",
              "       width=\"24px\">\n",
              "    <path d=\"M0 0h24v24H0V0z\" fill=\"none\"/>\n",
              "    <path d=\"M18.56 5.44l.94 2.06.94-2.06 2.06-.94-2.06-.94-.94-2.06-.94 2.06-2.06.94zm-11 1L8.5 8.5l.94-2.06 2.06-.94-2.06-.94L8.5 2.5l-.94 2.06-2.06.94zm10 10l.94 2.06.94-2.06 2.06-.94-2.06-.94-.94-2.06-.94 2.06-2.06.94z\"/><path d=\"M17.41 7.96l-1.37-1.37c-.4-.4-.92-.59-1.43-.59-.52 0-1.04.2-1.43.59L10.3 9.45l-7.72 7.72c-.78.78-.78 2.05 0 2.83L4 21.41c.39.39.9.59 1.41.59.51 0 1.02-.2 1.41-.59l7.78-7.78 2.81-2.81c.8-.78.8-2.07 0-2.86zM5.41 20L4 18.59l7.72-7.72 1.47 1.35L5.41 20z\"/>\n",
              "  </svg>\n",
              "      </button>\n",
              "      \n",
              "  <style>\n",
              "    .colab-df-container {\n",
              "      display:flex;\n",
              "      flex-wrap:wrap;\n",
              "      gap: 12px;\n",
              "    }\n",
              "\n",
              "    .colab-df-convert {\n",
              "      background-color: #E8F0FE;\n",
              "      border: none;\n",
              "      border-radius: 50%;\n",
              "      cursor: pointer;\n",
              "      display: none;\n",
              "      fill: #1967D2;\n",
              "      height: 32px;\n",
              "      padding: 0 0 0 0;\n",
              "      width: 32px;\n",
              "    }\n",
              "\n",
              "    .colab-df-convert:hover {\n",
              "      background-color: #E2EBFA;\n",
              "      box-shadow: 0px 1px 2px rgba(60, 64, 67, 0.3), 0px 1px 3px 1px rgba(60, 64, 67, 0.15);\n",
              "      fill: #174EA6;\n",
              "    }\n",
              "\n",
              "    [theme=dark] .colab-df-convert {\n",
              "      background-color: #3B4455;\n",
              "      fill: #D2E3FC;\n",
              "    }\n",
              "\n",
              "    [theme=dark] .colab-df-convert:hover {\n",
              "      background-color: #434B5C;\n",
              "      box-shadow: 0px 1px 3px 1px rgba(0, 0, 0, 0.15);\n",
              "      filter: drop-shadow(0px 1px 2px rgba(0, 0, 0, 0.3));\n",
              "      fill: #FFFFFF;\n",
              "    }\n",
              "  </style>\n",
              "\n",
              "      <script>\n",
              "        const buttonEl =\n",
              "          document.querySelector('#df-8816aa8e-91f9-450f-844f-885efdab8c71 button.colab-df-convert');\n",
              "        buttonEl.style.display =\n",
              "          google.colab.kernel.accessAllowed ? 'block' : 'none';\n",
              "\n",
              "        async function convertToInteractive(key) {\n",
              "          const element = document.querySelector('#df-8816aa8e-91f9-450f-844f-885efdab8c71');\n",
              "          const dataTable =\n",
              "            await google.colab.kernel.invokeFunction('convertToInteractive',\n",
              "                                                     [key], {});\n",
              "          if (!dataTable) return;\n",
              "\n",
              "          const docLinkHtml = 'Like what you see? Visit the ' +\n",
              "            '<a target=\"_blank\" href=https://colab.research.google.com/notebooks/data_table.ipynb>data table notebook</a>'\n",
              "            + ' to learn more about interactive tables.';\n",
              "          element.innerHTML = '';\n",
              "          dataTable['output_type'] = 'display_data';\n",
              "          await google.colab.output.renderOutput(dataTable, element);\n",
              "          const docLink = document.createElement('div');\n",
              "          docLink.innerHTML = docLinkHtml;\n",
              "          element.appendChild(docLink);\n",
              "        }\n",
              "      </script>\n",
              "    </div>\n",
              "  </div>\n",
              "  "
            ]
          },
          "metadata": {},
          "execution_count": 72
        }
      ]
    },
    {
      "cell_type": "markdown",
      "metadata": {
        "id": "DiKgwY45oYZv"
      },
      "source": [
        "# Задание 1.\n",
        "\n",
        "* Вы - менеджер по продажам в нефтехимической компании. Вы ведете несколько ключевых клиентов, которые закупают продукты вашей компании. Ваша компания запускает новый продукт - \"Синтетический каучук\" (СК), который по своим свойствам похож на тот, что уже есть на рынке. Ваши клиенты предпочитают формульный подход к ценообразованию. Вам нужно предложить клиентам формулу расчета цены на СК. В зависимости от объемов, которые покупают клиенты, им может быть предложена скидка.\n",
        "\n",
        "\n",
        "* СК производиться из нефти. Один из известных способов производства предполагает, что из 10 баррелей нефти сделают одну тонну СК, а затраты на производство в районе 400 евро."
      ]
    },
    {
      "cell_type": "code",
      "execution_count": null,
      "metadata": {
        "id": "b25XVrguoYZx"
      },
      "outputs": [],
      "source": [
        "\n",
        "# Затраты на производство\n",
        "PRODUCTION_COST = 400 # (EUR)\n",
        "\n",
        "# Расходы на логистику\n",
        "EU_LOGISTIC_COST_EUR = 30 # в Европу в евро\n",
        "CN_LOGISTIC_COST_USD = 130 # в Китай в долларах\n",
        "\n",
        "# * Справочная информация по клиентам(объемы, локации, комментарии) \n",
        "customers = {\n",
        "    'Сonty':{\n",
        "        'location':'EU',\n",
        "        'volumes':200,\n",
        "        'comment':'moving_average'\n",
        "    },\n",
        "    \n",
        "    'Triangle':{\n",
        "        'location':'CN',\n",
        "        'volumes': 30,\n",
        "        'comment': 'monthly'\n",
        "    },\n",
        "    'Stone':{\n",
        "        'location':'EU',\n",
        "        'volumes': 150,\n",
        "        'comment': 'moving_average'\n",
        "    },\n",
        "    'Ant':{\n",
        "        'location':'EU',\n",
        "        'volumes': 70,\n",
        "        'comment': 'monthly'\n",
        "    }\n",
        "}\n",
        "# Скидки\n",
        "discounts = {'99': 0.01, # до 100 тонн 1%\n",
        "             '299': 0.05, #  до 300 тонн 5%\n",
        "             '300': 0.1}   # больше 300 тонн 10%\n"
      ]
    },
    {
      "cell_type": "markdown",
      "metadata": {
        "id": "8mt4lwAFoYZy"
      },
      "source": [
        "### Что нужно сделать?\n",
        "\n",
        "1. Определить базовую формулу цены на заводе. То есть как бы выглядела цена на исторических данных. \n",
        "* Важно, чтобы цена покрывала расходы на производство и при этом была в рынке, то есть на уровне натурального каучука или с небольшим дисконтом, котировки на который можно взять с сайта http://www3.lgm.gov.my/mre/MonthlyPrices.aspx (в центах за килограм). Можно перевести в доллары за тонну.\n",
        "2. Отобразить на графике.\n",
        "3. Сделать расчет возможной цены по формуле для каждого из клиентов на условиях DDP (цена с доставкой). Записать все в один эксель файл, на разных листах. Каждый лист - название клиента.\n",
        "4. Предложить формулу цены каждому из клиентов на условиях DDP (цена с доставкой).\n",
        "- Создать директорию «для клиентов» и в ней сложить  файлы с расчетами.\n",
        "- Каждый клиент - отдельный файл (любой из docx, xlsx, pptx, pdf)  с именем клиента… \n",
        "\n"
      ]
    },
    {
      "cell_type": "code",
      "execution_count": 73,
      "metadata": {
        "colab": {
          "base_uri": "https://localhost:8080/"
        },
        "id": "kjr0pCAIoYZz",
        "outputId": "3ecebe4c-8acd-42dd-91ad-7b6ee5cfb084"
      },
      "outputs": [
        {
          "output_type": "execute_result",
          "data": {
            "text/plain": [
              "<Response [200]>"
            ]
          },
          "metadata": {},
          "execution_count": 73
        }
      ],
      "source": [
        "# Котировки натурального каучука доступны на сайте,  https://www.lgm.gov.my\n",
        "# также у них есть API, пример запроса ниже\n",
        "#\n",
        "year = '2022'\n",
        "month = '05'\n",
        "url = f\" http://www3.lgm.gov.my/mre/MonthlyPrices.aspx\"\n",
        "res = requests.get(url)\n",
        "res\n"
      ]
    },
    {
      "cell_type": "code",
      "source": [
        "Oil_price = pd.DataFrame(Oil_price_all, columns = ['Close'])\n",
        "euro_price = pd.DataFrame(euro_price_all, columns = ['Close'])\n",
        "oil_and_euro = pd.merge(Oil_price.reset_index(), euro_price.reset_index(), on=('Date') , how='inner')"
      ],
      "metadata": {
        "id": "xnidn32ssScd"
      },
      "execution_count": 74,
      "outputs": []
    },
    {
      "cell_type": "code",
      "source": [
        "oil_euro_cost = oil_and_euro.assign(cost = 10*oil_and_euro['Close_x']+ 400*oil_and_euro['Close_y'])"
      ],
      "metadata": {
        "id": "nSnvUvZD4Eyx"
      },
      "execution_count": 75,
      "outputs": []
    },
    {
      "cell_type": "code",
      "source": [
        "oil_euro_cost_2022 = oil_euro_cost[oil_euro_cost['Date']>='2023-05-01']\n",
        "oil_euro_cost_2022 = oil_euro_cost_2022[oil_euro_cost_2022['Date']<'2023-01-01']\n",
        "oil_euro_cost_2022 = oil_euro_cost_2022.reset_index(drop=True)"
      ],
      "metadata": {
        "id": "CYTt6OAy4YeG"
      },
      "execution_count": 76,
      "outputs": []
    },
    {
      "cell_type": "code",
      "source": [
        "rubberprice=[]\n",
        "for i in range(1,13):\n",
        "    if len(str(i))==1:\n",
        "        i=str(i)\n",
        "        i= '0'+i\n",
        "    else: i=str(i)\n",
        "    print(i) \n",
        "    year = '2022'\n",
        "    month = i\n",
        "    url = f\"https://www.lgm.gov.my/webv2api/api/rubberprice/month={month}&year={year}\"\n",
        "    res = requests.get(url)\n",
        "    rj = res.json()\n",
        "    df =pd.DataFrame(rj)\n",
        "    rubberprice.append(df)  \n",
        "rubberprice_df =pd.concat(rubberprice, axis=0)\n",
        "rubberprice_df = rubberprice_df.reset_index(drop=True) "
      ],
      "metadata": {
        "colab": {
          "base_uri": "https://localhost:8080/"
        },
        "id": "8NCd18NsJ58K",
        "outputId": "82118d66-cf87-481d-d96b-acaef62bc3d8"
      },
      "execution_count": 77,
      "outputs": [
        {
          "output_type": "stream",
          "name": "stdout",
          "text": [
            "01\n",
            "02\n",
            "03\n",
            "04\n",
            "05\n",
            "06\n",
            "07\n",
            "08\n",
            "09\n",
            "10\n",
            "11\n",
            "12\n"
          ]
        }
      ]
    },
    {
      "cell_type": "code",
      "source": [
        "rubberprice_df_cv = rubberprice_df[rubberprice_df['grade']== 'SMR CV']\n",
        "rubberprice_df_cv = rubberprice_df_cv.reset_index(drop=True) \n",
        "rubberprice_df_cv['us']=rubberprice_df_cv['us'].apply(pd.to_numeric)"
      ],
      "metadata": {
        "id": "ML64UEY-KXu5"
      },
      "execution_count": 78,
      "outputs": []
    },
    {
      "cell_type": "code",
      "source": [
        "rubberprice_df_cv_new = rubberprice_df_cv.assign(USD = rubberprice_df_cv['us']*10)"
      ],
      "metadata": {
        "id": "Evob7cpVNU1k"
      },
      "execution_count": 79,
      "outputs": []
    },
    {
      "cell_type": "code",
      "source": [
        "rubberprice_df_cv_2022 = rubberprice_df_cv_new[rubberprice_df_cv_new['date']>='2022-01-01']\n",
        "rubberprice_df_cv_2022 = rubberprice_df_cv_new[rubberprice_df_cv_new['date']<'2023-01-01']\n",
        "rubberprice_df_cv_2022['date']=pd.to_datetime(rubberprice_df_cv_2022['date'])"
      ],
      "metadata": {
        "id": "I1NGc4xbNkRM"
      },
      "execution_count": 80,
      "outputs": []
    },
    {
      "cell_type": "code",
      "source": [
        "all = pd.merge(oil_euro_cost_2022, rubberprice_df_cv_2022, left_on =('Date'), right_on =('date'),  how='inner')"
      ],
      "metadata": {
        "id": "rio_x5hbNaAv"
      },
      "execution_count": 81,
      "outputs": []
    },
    {
      "cell_type": "code",
      "source": [
        "all['compare'] = all['cost'] < all['USD']\n",
        "all\n",
        "#таблица не загружается (("
      ],
      "metadata": {
        "colab": {
          "base_uri": "https://localhost:8080/",
          "height": 49
        },
        "id": "yZJ3q-d4Ntgp",
        "outputId": "c40d62cb-c038-4882-8c49-0a0bea525b0f"
      },
      "execution_count": 82,
      "outputs": [
        {
          "output_type": "execute_result",
          "data": {
            "text/plain": [
              "Empty DataFrame\n",
              "Columns: [Date, Close_x, Close_y, cost, date, grade, masa, rm, us, tone, USD, compare]\n",
              "Index: []"
            ],
            "text/html": [
              "\n",
              "  <div id=\"df-a264fb86-bfdc-4aad-9799-835e08ebdda0\">\n",
              "    <div class=\"colab-df-container\">\n",
              "      <div>\n",
              "<style scoped>\n",
              "    .dataframe tbody tr th:only-of-type {\n",
              "        vertical-align: middle;\n",
              "    }\n",
              "\n",
              "    .dataframe tbody tr th {\n",
              "        vertical-align: top;\n",
              "    }\n",
              "\n",
              "    .dataframe thead th {\n",
              "        text-align: right;\n",
              "    }\n",
              "</style>\n",
              "<table border=\"1\" class=\"dataframe\">\n",
              "  <thead>\n",
              "    <tr style=\"text-align: right;\">\n",
              "      <th></th>\n",
              "      <th>Date</th>\n",
              "      <th>Close_x</th>\n",
              "      <th>Close_y</th>\n",
              "      <th>cost</th>\n",
              "      <th>date</th>\n",
              "      <th>grade</th>\n",
              "      <th>masa</th>\n",
              "      <th>rm</th>\n",
              "      <th>us</th>\n",
              "      <th>tone</th>\n",
              "      <th>USD</th>\n",
              "      <th>compare</th>\n",
              "    </tr>\n",
              "  </thead>\n",
              "  <tbody>\n",
              "  </tbody>\n",
              "</table>\n",
              "</div>\n",
              "      <button class=\"colab-df-convert\" onclick=\"convertToInteractive('df-a264fb86-bfdc-4aad-9799-835e08ebdda0')\"\n",
              "              title=\"Convert this dataframe to an interactive table.\"\n",
              "              style=\"display:none;\">\n",
              "        \n",
              "  <svg xmlns=\"http://www.w3.org/2000/svg\" height=\"24px\"viewBox=\"0 0 24 24\"\n",
              "       width=\"24px\">\n",
              "    <path d=\"M0 0h24v24H0V0z\" fill=\"none\"/>\n",
              "    <path d=\"M18.56 5.44l.94 2.06.94-2.06 2.06-.94-2.06-.94-.94-2.06-.94 2.06-2.06.94zm-11 1L8.5 8.5l.94-2.06 2.06-.94-2.06-.94L8.5 2.5l-.94 2.06-2.06.94zm10 10l.94 2.06.94-2.06 2.06-.94-2.06-.94-.94-2.06-.94 2.06-2.06.94z\"/><path d=\"M17.41 7.96l-1.37-1.37c-.4-.4-.92-.59-1.43-.59-.52 0-1.04.2-1.43.59L10.3 9.45l-7.72 7.72c-.78.78-.78 2.05 0 2.83L4 21.41c.39.39.9.59 1.41.59.51 0 1.02-.2 1.41-.59l7.78-7.78 2.81-2.81c.8-.78.8-2.07 0-2.86zM5.41 20L4 18.59l7.72-7.72 1.47 1.35L5.41 20z\"/>\n",
              "  </svg>\n",
              "      </button>\n",
              "      \n",
              "  <style>\n",
              "    .colab-df-container {\n",
              "      display:flex;\n",
              "      flex-wrap:wrap;\n",
              "      gap: 12px;\n",
              "    }\n",
              "\n",
              "    .colab-df-convert {\n",
              "      background-color: #E8F0FE;\n",
              "      border: none;\n",
              "      border-radius: 50%;\n",
              "      cursor: pointer;\n",
              "      display: none;\n",
              "      fill: #1967D2;\n",
              "      height: 32px;\n",
              "      padding: 0 0 0 0;\n",
              "      width: 32px;\n",
              "    }\n",
              "\n",
              "    .colab-df-convert:hover {\n",
              "      background-color: #E2EBFA;\n",
              "      box-shadow: 0px 1px 2px rgba(60, 64, 67, 0.3), 0px 1px 3px 1px rgba(60, 64, 67, 0.15);\n",
              "      fill: #174EA6;\n",
              "    }\n",
              "\n",
              "    [theme=dark] .colab-df-convert {\n",
              "      background-color: #3B4455;\n",
              "      fill: #D2E3FC;\n",
              "    }\n",
              "\n",
              "    [theme=dark] .colab-df-convert:hover {\n",
              "      background-color: #434B5C;\n",
              "      box-shadow: 0px 1px 3px 1px rgba(0, 0, 0, 0.15);\n",
              "      filter: drop-shadow(0px 1px 2px rgba(0, 0, 0, 0.3));\n",
              "      fill: #FFFFFF;\n",
              "    }\n",
              "  </style>\n",
              "\n",
              "      <script>\n",
              "        const buttonEl =\n",
              "          document.querySelector('#df-a264fb86-bfdc-4aad-9799-835e08ebdda0 button.colab-df-convert');\n",
              "        buttonEl.style.display =\n",
              "          google.colab.kernel.accessAllowed ? 'block' : 'none';\n",
              "\n",
              "        async function convertToInteractive(key) {\n",
              "          const element = document.querySelector('#df-a264fb86-bfdc-4aad-9799-835e08ebdda0');\n",
              "          const dataTable =\n",
              "            await google.colab.kernel.invokeFunction('convertToInteractive',\n",
              "                                                     [key], {});\n",
              "          if (!dataTable) return;\n",
              "\n",
              "          const docLinkHtml = 'Like what you see? Visit the ' +\n",
              "            '<a target=\"_blank\" href=https://colab.research.google.com/notebooks/data_table.ipynb>data table notebook</a>'\n",
              "            + ' to learn more about interactive tables.';\n",
              "          element.innerHTML = '';\n",
              "          dataTable['output_type'] = 'display_data';\n",
              "          await google.colab.output.renderOutput(dataTable, element);\n",
              "          const docLink = document.createElement('div');\n",
              "          docLink.innerHTML = docLinkHtml;\n",
              "          element.appendChild(docLink);\n",
              "        }\n",
              "      </script>\n",
              "    </div>\n",
              "  </div>\n",
              "  "
            ]
          },
          "metadata": {},
          "execution_count": 82
        }
      ]
    },
    {
      "cell_type": "code",
      "source": [
        "all_plot = all[['Date','cost']]\n",
        "all_plot = all_plot.round({'cost': 0})\n",
        "all_plot_graf = all_plot.set_index('Date')['cost']"
      ],
      "metadata": {
        "id": "9Yzwldg6Oa_E"
      },
      "execution_count": 83,
      "outputs": []
    },
    {
      "cell_type": "code",
      "source": [
        "from pylab import rcParams\n",
        "title_dict = {'fontsize':12, \n",
        "              'color':'Blue'}\n",
        "plt.title('Цена за 2022', fontdict=title_dict)\n",
        "plt.xlabel('Дата', fontdict=title_dict)\n",
        "plt.ylabel('price in $', fontdict=title_dict)\n",
        "all_plot_graf.plot()\n",
        "plt.grid()\n",
        "plt.show()"
      ],
      "metadata": {
        "colab": {
          "base_uri": "https://localhost:8080/",
          "height": 452
        },
        "id": "IqPpfMG6Okes",
        "outputId": "61daaa01-6e72-4351-b832-911c178b6a92"
      },
      "execution_count": 84,
      "outputs": [
        {
          "output_type": "display_data",
          "data": {
            "text/plain": [
              "<Figure size 640x480 with 1 Axes>"
            ],
            "image/png": "[encoded data removed]"
          },
          "metadata": {}
        }
      ]
    },
    {
      "cell_type": "markdown",
      "metadata": {
        "id": "JfU_1rMloYZ0"
      },
      "source": [
        "# Задание 2"
      ]
    },
    {
      "cell_type": "markdown",
      "metadata": {
        "id": "ciTeZhxLoYZ1"
      },
      "source": [
        "Клиенты согласились на ваше предложение. \n",
        "Вам нужно сделать написать скрипт, с помощью которого можно автоматом рассчитывать цены для всех клиентов одновременно. \n",
        "Важный момент: данные для расчета скрипт должен подтягивать сам."
      ]
    },
    {
      "cell_type": "code",
      "source": [],
      "metadata": {
        "id": "qkF2gXMnRNKc"
      },
      "execution_count": null,
      "outputs": []
    },
    {
      "cell_type": "markdown",
      "metadata": {
        "id": "v8SLpUrfoYZ2"
      },
      "source": [
        "# Задание 3\n",
        "\n",
        "К вам пришел новый клиент из России. Который использует продукт А и готов регулярно закупать СК для того, чтобы не быть привязанным к одному поставщику. Клиент готов забирать СК с завода самостоятельно.\n",
        "На основе тех данных, которые уже есть предложите цену новому клиенту в рублях. \n",
        "\n"
      ]
    },
    {
      "cell_type": "code",
      "execution_count": null,
      "metadata": {
        "id": "8IevEdaNoYZ3"
      },
      "outputs": [],
      "source": [
        "#"
      ]
    },
    {
      "cell_type": "code",
      "execution_count": null,
      "metadata": {
        "id": "ebTLxBmhoYZ3"
      },
      "outputs": [],
      "source": []
    }
  ],
  "metadata": {
    "kernelspec": {
      "display_name": "Python 3 (ipykernel)",
      "language": "python",
      "name": "python3"
    },
    "language_info": {
      "codemirror_mode": {
        "name": "ipython",
        "version": 3
      },
      "file_extension": ".py",
      "mimetype": "text/x-python",
      "name": "python",
      "nbconvert_exporter": "python",
      "pygments_lexer": "ipython3",
      "version": "3.9.13"
    },
    "colab": {
      "provenance": []
    }
  },
  "nbformat": 4,
  "nbformat_minor": 0
}