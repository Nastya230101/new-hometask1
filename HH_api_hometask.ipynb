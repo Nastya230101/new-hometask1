{
  "cells": [
    {
      "cell_type": "markdown",
      "metadata": {
        "id": "-tnzOxdsQ0Yl"
      },
      "source": [
        "<a target=\"_blank\" href=\"https://colab.research.google.com/github/da-python/new-modul-python/blob/main/Lesson2/hometask/HH-api-hometask.ipynb\">\n"
      ]
    },
    {
      "cell_type": "markdown",
      "metadata": {
        "id": "Fv0x5cWUQ0Yq"
      },
      "source": [
        "<a target=\"_blank\" href=\"https://colab.research.google.com/github/da-python/new-modul-python/blob/main/Lesson2/hometask/HH-api-hometask.ipynb\">\n",
        "  <img src=\"https://colab.research.google.com/assets/colab-badge.svg\" alt=\"Open In Colab\"/>\n",
        "</a>"
      ]
    },
    {
      "cell_type": "markdown",
      "metadata": {
        "id": "zL55PUnRQ0Yq"
      },
      "source": [
        "# Задание\n",
        "* Cкачайте все вакансии СБЕРа из api hh.ru (https://github.com/hhru/api у апи есть ограничение в 2000, подумайте как его обойти)\n",
        "* Извлеките все полные описания этих вакансий по запросу с https://api.hh.ru/vacancies/43326020 где 43326020 id вакансии\n",
        "* Создайте DataFrame в котором будут даты публикации вакансий, названия, описания,  только добавьте поле ключевые навыки\n",
        "* Переведите даты публикаций в формат datetime и постройте график опубликованных вакансий по датам\n",
        "* Переведите даты в дни недели, и определите день недели, в который больше всего публикуют вакансий\n",
        "* Найдите вакансии с использованием python, которые вам интересны\n",
        "* Определите по полю с ключевыми навыками, какие навыки больше всего востребованы для найденных вакансий\n",
        "* Постройте график наиболее востребованных навыков\n",
        "\n",
        "** В случае ответов от api.hh.ru с ошибками типа \"Captcha\" постарайтесь их обработать, например, с помощью time.sleep или изменения ip-адреса"
      ]
    },
    {
      "cell_type": "code",
      "execution_count": 10,
      "metadata": {
        "id": "TrwyF2x4Q0Yr"
      },
      "outputs": [],
      "source": [
        "import requests\n",
        "from tqdm.auto import tqdm\n",
        "import pandas as pd\n",
        "import numpy as np\n",
        "import os\n",
        "from datetime import datetime\n",
        "from operator import itemgetter\n",
        "import time"
      ]
    },
    {
      "cell_type": "code",
      "execution_count": 13,
      "metadata": {
        "id": "vX0g0FoXQ0Yt"
      },
      "outputs": [],
      "source": [
        "sber = '3529'\n",
        "page = 1\n",
        "num_per_page = 100\n",
        "url = f'https://api.hh.ru/vacancies?employer_id={sber}&page={page}&per_page={num_per_page}'"
      ]
    },
    {
      "cell_type": "code",
      "source": [
        "res = requests.get(url)\n",
        "vacancies = res.json()\n",
        "num_pages = vacancies.get('pages')\n",
        "vac_num = [el.get('id') for el in vacancies.get('items')]"
      ],
      "metadata": {
        "id": "NQWd-BV-STWX"
      },
      "execution_count": 16,
      "outputs": []
    },
    {
      "cell_type": "code",
      "execution_count": 18,
      "metadata": {
        "id": "N8yV1m2dQ0Yu",
        "outputId": "7ecda91e-cafe-4d10-99e0-eb495e935cb5",
        "colab": {
          "base_uri": "https://localhost:8080/",
          "height": 49,
          "referenced_widgets": [
            "6b04bca9c3934b419a40fd3752bcced3",
            "018bbffc1a224e48a1767e3d79077430",
            "3923f9a14d41432695833d5526c0d804",
            "2ac3271ebd2a4a6e8048413c4d2871bd",
            "747c2926d1de4da6b1ac5f24b1ef00fd",
            "b4596815162c4de3b957cffd31d68445",
            "1c7dc409f28a4ed2ba3dcdcf1c2eb2c3",
            "d379852470eb49c7942705be9d5cb520",
            "c9403faeee6a4020987f13a458749e4d",
            "ed67e29abbef4b6ea4bc7f9baa892a9d",
            "7ef137d93e8840c788f168f8da0e61c5"
          ]
        }
      },
      "outputs": [
        {
          "output_type": "display_data",
          "data": {
            "text/plain": [
              "  0%|          | 0/20 [00:00<?, ?it/s]"
            ],
            "application/vnd.jupyter.widget-view+json": {
              "version_major": 2,
              "version_minor": 0,
              "model_id": "6b04bca9c3934b419a40fd3752bcced3"
            }
          },
          "metadata": {}
        }
      ],
      "source": [
        "all_vac = []\n",
        "for i in tqdm(range(vacancies.get('pages'))):\n",
        "    url = f'https://api.hh.ru/vacancies?employer_id={sber}&page={i}&per_page={num_per_page}'\n",
        "    res = requests.get(url)\n",
        "    vacancies = res.json()\n",
        "    vac_num = [el.get('id') for el in vacancies.get('items')]\n",
        "    all_vac.extend(vac_num)"
      ]
    },
    {
      "cell_type": "code",
      "source": [
        "len(all_vac)"
      ],
      "metadata": {
        "id": "TEe2R5ZpTM9X",
        "outputId": "1e4c626c-9a0a-48cd-a876-042c4adcef6e",
        "colab": {
          "base_uri": "https://localhost:8080/"
        }
      },
      "execution_count": 19,
      "outputs": [
        {
          "output_type": "execute_result",
          "data": {
            "text/plain": [
              "2000"
            ]
          },
          "metadata": {},
          "execution_count": 19
        }
      ]
    },
    {
      "cell_type": "code",
      "source": [
        "vacancy_all = [] #Полное описание\n",
        "for ii in range(10): \n",
        "    x=100*ii\n",
        "    ii+=1\n",
        "    y=100*ii\n",
        "    for i in range(x, y): \n",
        "        vac_id = all_vac[i]\n",
        "        url = f'https://api.hh.ru/vacancies/{vac_id}'\n",
        "        res = requests.get(url)\n",
        "        vacancy = res.json()\n",
        "        vacancy_all.append(vacancy)\n",
        "    print(ii)\n",
        "    time.sleep(150)"
      ],
      "metadata": {
        "id": "n3kVvo3GTsUg",
        "outputId": "5a2b4094-9556-4a38-fecd-25210efab5e7",
        "colab": {
          "base_uri": "https://localhost:8080/"
        }
      },
      "execution_count": 20,
      "outputs": [
        {
          "output_type": "stream",
          "name": "stdout",
          "text": [
            "1\n",
            "2\n",
            "3\n",
            "4\n",
            "5\n",
            "6\n",
            "7\n",
            "8\n",
            "9\n",
            "10\n"
          ]
        }
      ]
    },
    {
      "cell_type": "code",
      "source": [
        "vacancies.get('items')[0]"
      ],
      "metadata": {
        "id": "9d3h2y90c03_",
        "outputId": "888516e6-c789-4512-ced2-3cbc507ed85b",
        "colab": {
          "base_uri": "https://localhost:8080/"
        }
      },
      "execution_count": 21,
      "outputs": [
        {
          "output_type": "execute_result",
          "data": {
            "text/plain": [
              "{'id': '78740289',\n",
              " 'premium': False,\n",
              " 'name': 'Старший клиентский менеджер',\n",
              " 'department': {'id': '3529-3529-clients', 'name': 'Сбер. Работа с клиентами'},\n",
              " 'has_test': False,\n",
              " 'response_letter_required': False,\n",
              " 'area': {'id': '4740',\n",
              "  'name': 'Туринская Слобода',\n",
              "  'url': 'https://api.hh.ru/areas/4740'},\n",
              " 'salary': {'from': 43200, 'to': None, 'currency': 'RUR', 'gross': True},\n",
              " 'type': {'id': 'open', 'name': 'Открытая'},\n",
              " 'address': {'city': 'Туринская Слобода',\n",
              "  'street': None,\n",
              "  'building': None,\n",
              "  'lat': 57.618057,\n",
              "  'lng': 64.387467,\n",
              "  'description': None,\n",
              "  'raw': 'Туринская Слобода',\n",
              "  'metro': None,\n",
              "  'metro_stations': [],\n",
              "  'id': '13020949'},\n",
              " 'response_url': None,\n",
              " 'sort_point_distance': None,\n",
              " 'published_at': '2023-03-30T17:31:27+0300',\n",
              " 'created_at': '2023-03-30T17:31:27+0300',\n",
              " 'archived': False,\n",
              " 'apply_alternate_url': 'https://hh.ru/applicant/vacancy_response?vacancyId=78740289',\n",
              " 'insider_interview': None,\n",
              " 'url': 'https://api.hh.ru/vacancies/78740289?host=hh.ru',\n",
              " 'adv_response_url': None,\n",
              " 'alternate_url': 'https://hh.ru/vacancy/78740289',\n",
              " 'relations': [],\n",
              " 'employer': {'id': '3529',\n",
              "  'name': 'СБЕР',\n",
              "  'url': 'https://api.hh.ru/employers/3529',\n",
              "  'alternate_url': 'https://hh.ru/employer/3529',\n",
              "  'logo_urls': {'240': 'https://hhcdn.ru/employer-logo/5756157.png',\n",
              "   '90': 'https://hhcdn.ru/employer-logo/5756156.png',\n",
              "   'original': 'https://hhcdn.ru/employer-logo-original/1033849.png'},\n",
              "  'vacancies_url': 'https://api.hh.ru/vacancies?employer_id=3529',\n",
              "  'trusted': True},\n",
              " 'snippet': {'requirement': 'Специалист со средним профессиональным, неполным высшим или высшим образованием. Имеешь опыт работы в сфере продаж, обслуживания и консультирования клиентов от...',\n",
              "  'responsibility': 'Доброжелателен и готов помогать клиентам. Предлагать продукты и услуги Сбера. Консультировать клиентов по возникающим вопросам. Помогать клиентам оформлять услуги и...'},\n",
              " 'contacts': None,\n",
              " 'schedule': None,\n",
              " 'working_days': [],\n",
              " 'working_time_intervals': [],\n",
              " 'working_time_modes': [],\n",
              " 'accept_temporary': False,\n",
              " 'professional_roles': [{'id': '70',\n",
              "   'name': 'Менеджер по продажам, менеджер по работе с клиентами'}],\n",
              " 'accept_incomplete_resumes': True}"
            ]
          },
          "metadata": {},
          "execution_count": 21
        }
      ]
    },
    {
      "cell_type": "code",
      "source": [
        "len(vacancies.get('items'))"
      ],
      "metadata": {
        "id": "4E3t8WwSdUR0",
        "outputId": "5355b56b-388c-4d16-d81d-3dcc428901d1",
        "colab": {
          "base_uri": "https://localhost:8080/"
        }
      },
      "execution_count": 22,
      "outputs": [
        {
          "output_type": "execute_result",
          "data": {
            "text/plain": [
              "100"
            ]
          },
          "metadata": {},
          "execution_count": 22
        }
      ]
    },
    {
      "cell_type": "code",
      "source": [
        "vacancies.get('found')"
      ],
      "metadata": {
        "id": "zPdx3YfLdYiz",
        "outputId": "35da45cc-0f86-4b85-94ab-0288fc315922",
        "colab": {
          "base_uri": "https://localhost:8080/"
        }
      },
      "execution_count": 23,
      "outputs": [
        {
          "output_type": "execute_result",
          "data": {
            "text/plain": [
              "6843"
            ]
          },
          "metadata": {},
          "execution_count": 23
        }
      ]
    },
    {
      "cell_type": "code",
      "source": [
        "vac_information = pd.DataFrame(vacancy_all, columns = ['name','id','description','published_at','key_skills'])"
      ],
      "metadata": {
        "id": "JzCoel4hdcxF"
      },
      "execution_count": 24,
      "outputs": []
    },
    {
      "cell_type": "code",
      "source": [
        "def convert_datetime(x): \n",
        "    if type(x)==str:\n",
        "        new_d = datetime.strptime(x[:10], '%Y-%m-%d')\n",
        "        return new_d\n",
        "    else :\n",
        "        new_d = None \n",
        "        return new_d"
      ],
      "metadata": {
        "id": "VotiulEadjTR"
      },
      "execution_count": 25,
      "outputs": []
    },
    {
      "cell_type": "code",
      "source": [
        "vac_information['published_at'] = pd.to_datetime(vac_information['published_at'].apply(convert_datetime)) "
      ],
      "metadata": {
        "id": "vn_8wCsRdsPF"
      },
      "execution_count": 26,
      "outputs": []
    },
    {
      "cell_type": "code",
      "source": [
        "print(vac_information)"
      ],
      "metadata": {
        "id": "UY35yr4DduNf",
        "outputId": "347cf374-5e46-46ef-aa25-6703ffe67911",
        "colab": {
          "base_uri": "https://localhost:8080/"
        }
      },
      "execution_count": 27,
      "outputs": [
        {
          "output_type": "stream",
          "name": "stdout",
          "text": [
            "                                                  name        id  \\\n",
            "0                     Старший менеджер по обслуживанию  77826805   \n",
            "1                   Редактор - корректор (SberDevices)  78928835   \n",
            "2         Стажёр по направлению \"Право\" от SBERSEASONS  78861139   \n",
            "3                                 Frontend-разработчик  78953673   \n",
            "4    Стажёр по направлению \"JavaScript\" от SBERSEASONS  78861166   \n",
            "..                                                 ...       ...   \n",
            "995                                Middle Data Analyst  78352799   \n",
            "996                        Старший клиентский менеджер  78762597   \n",
            "997  Клиентский менеджер по работе с корпоративными...  69365297   \n",
            "998                                           Аналитик  76038532   \n",
            "999                                    Удаленный агент  77646233   \n",
            "\n",
            "                                           description published_at  \\\n",
            "0    <p>Сбер — лучший работодатель России. У нас 14...   2023-03-09   \n",
            "1    <p><strong>SberDevices</strong> – самое иннова...   2023-04-05   \n",
            "2    <p><strong>Оплачиваемая стажировка по направле...   2023-04-04   \n",
            "3    <p>Ищем Frontend-разработчика в трайб Заботы о...   2023-04-05   \n",
            "4    <p><strong>Оплачиваемая стажировка по направле...   2023-04-04   \n",
            "..                                                 ...          ...   \n",
            "995  <p>Наша команда занимается созданием аналитиче...   2023-03-21   \n",
            "996  <p>Сбер — лучший работодатель России. У нас бо...   2023-03-31   \n",
            "997  <p>Сбер — это более 60 компаний экосистемы, 14...   2023-03-31   \n",
            "998  <p><br />Наша команда, занимающаяся контролем ...   2023-03-14   \n",
            "999  <p>Сбер – один их самых привлекательных работо...   2023-04-03   \n",
            "\n",
            "                                            key_skills  \n",
            "0                                                   []  \n",
            "1                                                   []  \n",
            "2    [{'name': 'Опыт правового анализа документов'}...  \n",
            "3                                                   []  \n",
            "4    [{'name': 'HTML'}, {'name': 'CSS'}, {'name': '...  \n",
            "..                                                 ...  \n",
            "995                                                 []  \n",
            "996                                                 []  \n",
            "997                                                 []  \n",
            "998                                                 []  \n",
            "999                                                 []  \n",
            "\n",
            "[1000 rows x 5 columns]\n"
          ]
        }
      ]
    },
    {
      "cell_type": "code",
      "source": [
        "vac_information.info()"
      ],
      "metadata": {
        "id": "gsC8FJzUd8Ud",
        "outputId": "f65b14f5-3ec9-413f-9c7f-66a15e5dd302",
        "colab": {
          "base_uri": "https://localhost:8080/"
        }
      },
      "execution_count": 28,
      "outputs": [
        {
          "output_type": "stream",
          "name": "stdout",
          "text": [
            "<class 'pandas.core.frame.DataFrame'>\n",
            "RangeIndex: 1000 entries, 0 to 999\n",
            "Data columns (total 5 columns):\n",
            " #   Column        Non-Null Count  Dtype         \n",
            "---  ------        --------------  -----         \n",
            " 0   name          1000 non-null   object        \n",
            " 1   id            1000 non-null   object        \n",
            " 2   description   1000 non-null   object        \n",
            " 3   published_at  1000 non-null   datetime64[ns]\n",
            " 4   key_skills    1000 non-null   object        \n",
            "dtypes: datetime64[ns](1), object(4)\n",
            "memory usage: 39.2+ KB\n"
          ]
        }
      ]
    },
    {
      "cell_type": "code",
      "source": [
        "vac_date = vac_information.groupby(['published_at']).count()"
      ],
      "metadata": {
        "id": "yuH8cJFqd_bP"
      },
      "execution_count": 29,
      "outputs": []
    },
    {
      "cell_type": "code",
      "source": [
        "vac_date_plot = pd.DataFrame(vac_date, columns = ['id'])"
      ],
      "metadata": {
        "id": "E52eN61JeEBL"
      },
      "execution_count": 30,
      "outputs": []
    },
    {
      "cell_type": "code",
      "source": [
        "vac_date_plot.plot()"
      ],
      "metadata": {
        "id": "COqGRgo4eJQj",
        "outputId": "bd672b47-ba34-46d8-cb91-ffa6c30586c2",
        "colab": {
          "base_uri": "https://localhost:8080/",
          "height": 461
        }
      },
      "execution_count": 31,
      "outputs": [
        {
          "output_type": "execute_result",
          "data": {
            "text/plain": [
              "<Axes: xlabel='published_at'>"
            ]
          },
          "metadata": {},
          "execution_count": 31
        },
        {
          "output_type": "display_data",
          "data": {
            "text/plain": [
              "<Figure size 640x480 with 1 Axes>"
            ],
            "image/png": "[encoded data removed]"
          },
          "metadata": {}
        }
      ]
    },
    {
      "cell_type": "code",
      "source": [
        "vac_week = pd.DataFrame(vacancy_all, columns = ['name','id','description','published_at','key_skills'])"
      ],
      "metadata": {
        "id": "DdsYYVFReoI4"
      },
      "execution_count": 34,
      "outputs": []
    },
    {
      "cell_type": "code",
      "source": [
        "def convert_date_week(x):\n",
        "    if type(x)==str:\n",
        "        new_d = datetime.weekday(datetime.strptime(x[:10], '%Y-%m-%d'))\n",
        "        return new_d\n",
        "    else :\n",
        "        new_d = 6 \n",
        "        return new_d"
      ],
      "metadata": {
        "id": "n6NCRqfWe4i-"
      },
      "execution_count": 35,
      "outputs": []
    },
    {
      "cell_type": "code",
      "source": [
        "vac_week['published_at'] = vac_week['published_at'].apply(convert_date_week).astype(int)"
      ],
      "metadata": {
        "id": "g9TOQvQXfAMl"
      },
      "execution_count": 36,
      "outputs": []
    },
    {
      "cell_type": "code",
      "source": [
        "vac_week_count = vac_week.groupby(['published_at']).count()\n",
        "vac_week_count "
      ],
      "metadata": {
        "id": "-E1jASnZfDbg",
        "outputId": "a9bf5415-12d3-4150-8ff7-8f6d08a88674",
        "colab": {
          "base_uri": "https://localhost:8080/",
          "height": 300
        }
      },
      "execution_count": 37,
      "outputs": [
        {
          "output_type": "execute_result",
          "data": {
            "text/plain": [
              "              name   id  description  key_skills\n",
              "published_at                                    \n",
              "0              213  213          213         213\n",
              "1              237  237          237         237\n",
              "2              230  230          230         230\n",
              "3              133  133          133         133\n",
              "4              139  139          139         139\n",
              "5               29   29           29          29\n",
              "6               19   19           19          19"
            ],
            "text/html": [
              "\n",
              "  <div id=\"df-4770a097-ebdd-4062-944e-b49fcf8adf57\">\n",
              "    <div class=\"colab-df-container\">\n",
              "      <div>\n",
              "<style scoped>\n",
              "    .dataframe tbody tr th:only-of-type {\n",
              "        vertical-align: middle;\n",
              "    }\n",
              "\n",
              "    .dataframe tbody tr th {\n",
              "        vertical-align: top;\n",
              "    }\n",
              "\n",
              "    .dataframe thead th {\n",
              "        text-align: right;\n",
              "    }\n",
              "</style>\n",
              "<table border=\"1\" class=\"dataframe\">\n",
              "  <thead>\n",
              "    <tr style=\"text-align: right;\">\n",
              "      <th></th>\n",
              "      <th>name</th>\n",
              "      <th>id</th>\n",
              "      <th>description</th>\n",
              "      <th>key_skills</th>\n",
              "    </tr>\n",
              "    <tr>\n",
              "      <th>published_at</th>\n",
              "      <th></th>\n",
              "      <th></th>\n",
              "      <th></th>\n",
              "      <th></th>\n",
              "    </tr>\n",
              "  </thead>\n",
              "  <tbody>\n",
              "    <tr>\n",
              "      <th>0</th>\n",
              "      <td>213</td>\n",
              "      <td>213</td>\n",
              "      <td>213</td>\n",
              "      <td>213</td>\n",
              "    </tr>\n",
              "    <tr>\n",
              "      <th>1</th>\n",
              "      <td>237</td>\n",
              "      <td>237</td>\n",
              "      <td>237</td>\n",
              "      <td>237</td>\n",
              "    </tr>\n",
              "    <tr>\n",
              "      <th>2</th>\n",
              "      <td>230</td>\n",
              "      <td>230</td>\n",
              "      <td>230</td>\n",
              "      <td>230</td>\n",
              "    </tr>\n",
              "    <tr>\n",
              "      <th>3</th>\n",
              "      <td>133</td>\n",
              "      <td>133</td>\n",
              "      <td>133</td>\n",
              "      <td>133</td>\n",
              "    </tr>\n",
              "    <tr>\n",
              "      <th>4</th>\n",
              "      <td>139</td>\n",
              "      <td>139</td>\n",
              "      <td>139</td>\n",
              "      <td>139</td>\n",
              "    </tr>\n",
              "    <tr>\n",
              "      <th>5</th>\n",
              "      <td>29</td>\n",
              "      <td>29</td>\n",
              "      <td>29</td>\n",
              "      <td>29</td>\n",
              "    </tr>\n",
              "    <tr>\n",
              "      <th>6</th>\n",
              "      <td>19</td>\n",
              "      <td>19</td>\n",
              "      <td>19</td>\n",
              "      <td>19</td>\n",
              "    </tr>\n",
              "  </tbody>\n",
              "</table>\n",
              "</div>\n",
              "      <button class=\"colab-df-convert\" onclick=\"convertToInteractive('df-4770a097-ebdd-4062-944e-b49fcf8adf57')\"\n",
              "              title=\"Convert this dataframe to an interactive table.\"\n",
              "              style=\"display:none;\">\n",
              "        \n",
              "  <svg xmlns=\"http://www.w3.org/2000/svg\" height=\"24px\"viewBox=\"0 0 24 24\"\n",
              "       width=\"24px\">\n",
              "    <path d=\"M0 0h24v24H0V0z\" fill=\"none\"/>\n",
              "    <path d=\"M18.56 5.44l.94 2.06.94-2.06 2.06-.94-2.06-.94-.94-2.06-.94 2.06-2.06.94zm-11 1L8.5 8.5l.94-2.06 2.06-.94-2.06-.94L8.5 2.5l-.94 2.06-2.06.94zm10 10l.94 2.06.94-2.06 2.06-.94-2.06-.94-.94-2.06-.94 2.06-2.06.94z\"/><path d=\"M17.41 7.96l-1.37-1.37c-.4-.4-.92-.59-1.43-.59-.52 0-1.04.2-1.43.59L10.3 9.45l-7.72 7.72c-.78.78-.78 2.05 0 2.83L4 21.41c.39.39.9.59 1.41.59.51 0 1.02-.2 1.41-.59l7.78-7.78 2.81-2.81c.8-.78.8-2.07 0-2.86zM5.41 20L4 18.59l7.72-7.72 1.47 1.35L5.41 20z\"/>\n",
              "  </svg>\n",
              "      </button>\n",
              "      \n",
              "  <style>\n",
              "    .colab-df-container {\n",
              "      display:flex;\n",
              "      flex-wrap:wrap;\n",
              "      gap: 12px;\n",
              "    }\n",
              "\n",
              "    .colab-df-convert {\n",
              "      background-color: #E8F0FE;\n",
              "      border: none;\n",
              "      border-radius: 50%;\n",
              "      cursor: pointer;\n",
              "      display: none;\n",
              "      fill: #1967D2;\n",
              "      height: 32px;\n",
              "      padding: 0 0 0 0;\n",
              "      width: 32px;\n",
              "    }\n",
              "\n",
              "    .colab-df-convert:hover {\n",
              "      background-color: #E2EBFA;\n",
              "      box-shadow: 0px 1px 2px rgba(60, 64, 67, 0.3), 0px 1px 3px 1px rgba(60, 64, 67, 0.15);\n",
              "      fill: #174EA6;\n",
              "    }\n",
              "\n",
              "    [theme=dark] .colab-df-convert {\n",
              "      background-color: #3B4455;\n",
              "      fill: #D2E3FC;\n",
              "    }\n",
              "\n",
              "    [theme=dark] .colab-df-convert:hover {\n",
              "      background-color: #434B5C;\n",
              "      box-shadow: 0px 1px 3px 1px rgba(0, 0, 0, 0.15);\n",
              "      filter: drop-shadow(0px 1px 2px rgba(0, 0, 0, 0.3));\n",
              "      fill: #FFFFFF;\n",
              "    }\n",
              "  </style>\n",
              "\n",
              "      <script>\n",
              "        const buttonEl =\n",
              "          document.querySelector('#df-4770a097-ebdd-4062-944e-b49fcf8adf57 button.colab-df-convert');\n",
              "        buttonEl.style.display =\n",
              "          google.colab.kernel.accessAllowed ? 'block' : 'none';\n",
              "\n",
              "        async function convertToInteractive(key) {\n",
              "          const element = document.querySelector('#df-4770a097-ebdd-4062-944e-b49fcf8adf57');\n",
              "          const dataTable =\n",
              "            await google.colab.kernel.invokeFunction('convertToInteractive',\n",
              "                                                     [key], {});\n",
              "          if (!dataTable) return;\n",
              "\n",
              "          const docLinkHtml = 'Like what you see? Visit the ' +\n",
              "            '<a target=\"_blank\" href=https://colab.research.google.com/notebooks/data_table.ipynb>data table notebook</a>'\n",
              "            + ' to learn more about interactive tables.';\n",
              "          element.innerHTML = '';\n",
              "          dataTable['output_type'] = 'display_data';\n",
              "          await google.colab.output.renderOutput(dataTable, element);\n",
              "          const docLink = document.createElement('div');\n",
              "          docLink.innerHTML = docLinkHtml;\n",
              "          element.appendChild(docLink);\n",
              "        }\n",
              "      </script>\n",
              "    </div>\n",
              "  </div>\n",
              "  "
            ]
          },
          "metadata": {},
          "execution_count": 37
        }
      ]
    },
    {
      "cell_type": "code",
      "source": [
        "#определите день недели, в который больше всего публикуют вакансий. Ответ - ВТ\n",
        "vac_week_count.max()"
      ],
      "metadata": {
        "id": "-6tu8l1qfDoY",
        "outputId": "f572d91a-9d4f-4763-bf04-6deaeb5266f2",
        "colab": {
          "base_uri": "https://localhost:8080/"
        }
      },
      "execution_count": 38,
      "outputs": [
        {
          "output_type": "execute_result",
          "data": {
            "text/plain": [
              "name           237\n",
              "id             237\n",
              "description    237\n",
              "key_skills     237\n",
              "dtype: int64"
            ]
          },
          "metadata": {},
          "execution_count": 38
        }
      ]
    },
    {
      "cell_type": "code",
      "source": [
        "vac_fav = pd.DataFrame(vacancy_all, columns = ['name','id','description','published_at','key_skills'])"
      ],
      "metadata": {
        "id": "axYK5N2KhhaW"
      },
      "execution_count": 39,
      "outputs": []
    },
    {
      "cell_type": "code",
      "execution_count": 40,
      "metadata": {
        "id": "C5HjRA-YQ0Yy"
      },
      "outputs": [],
      "source": [
        "vac_withpython = []\n",
        "for i in range(len(vac_fav)):\n",
        "    if type(vac_fav['name'][i]) == str:\n",
        "        if ('Python' in vac_fav['name'][i]) == True:\n",
        "            vac_withpython.append(vac_fav['name'][i])"
      ]
    },
    {
      "cell_type": "code",
      "execution_count": 41,
      "metadata": {
        "id": "hk1nS4wzQ0Yy",
        "outputId": "7edbc95d-686b-49fc-e81b-f572de55fe2d",
        "colab": {
          "base_uri": "https://localhost:8080/"
        }
      },
      "outputs": [
        {
          "output_type": "stream",
          "name": "stdout",
          "text": [
            "['Python разработчик', 'Python разработчик', 'Стажер (разработчик Python)', 'Python разработчик (backend)', 'Аналитик данных со знанием Python', 'Разработчик ИСУ (SQL/Python)', 'Разработчик Python', 'Python-разработчик', 'Python Developer', 'Python разработчик (Брокерский бизнес)', 'Python developer', 'Python-разработчик', 'Python Developer в омниканальные контактные центры', 'Middle/Senior Python-разработчик в Цифровые поверхности Салют (SberDevices)', 'Python-разработчик', 'Python-разработчик', 'Python разработчик (Биометрия)', 'Senior Python Engineer в инфраструктуру поиска', 'Специалист по оптимизации процессов со знанием Python', 'Python-разработчик в Цифровые поверхности Салют (Сценарная разработка)', 'Python-разработчик']\n"
          ]
        }
      ],
      "source": [
        "print(vac_withpython)"
      ]
    },
    {
      "cell_type": "code",
      "execution_count": null,
      "metadata": {
        "id": "c1LiZERvQ0Yz"
      },
      "outputs": [],
      "source": [
        "vac_necskill = pd.DataFrame(vacancy_all, columns = ['name','id','description','published_at','key_skills'])"
      ]
    },
    {
      "cell_type": "code",
      "execution_count": null,
      "metadata": {
        "id": "9eBdDaHdQ0Yz"
      },
      "outputs": [],
      "source": []
    }
  ],
  "metadata": {
    "kernelspec": {
      "display_name": "Python 3 (ipykernel)",
      "language": "python",
      "name": "python3"
    },
    "language_info": {
      "codemirror_mode": {
        "name": "ipython",
        "version": 3
      },
      "file_extension": ".py",
      "mimetype": "text/x-python",
      "name": "python",
      "nbconvert_exporter": "python",
      "pygments_lexer": "ipython3",
      "version": "3.9.13"
    },
    "colab": {
      "provenance": []
    },
    "widgets": {
      "application/vnd.jupyter.widget-state+json": {
        "6b04bca9c3934b419a40fd3752bcced3": {
          "model_module": "@jupyter-widgets/controls",
          "model_name": "HBoxModel",
          "model_module_version": "1.5.0",
          "state": {
            "_dom_classes": [],
            "_model_module": "@jupyter-widgets/controls",
            "_model_module_version": "1.5.0",
            "_model_name": "HBoxModel",
            "_view_count": null,
            "_view_module": "@jupyter-widgets/controls",
            "_view_module_version": "1.5.0",
            "_view_name": "HBoxView",
            "box_style": "",
            "children": [
              "IPY_MODEL_018bbffc1a224e48a1767e3d79077430",
              "IPY_MODEL_3923f9a14d41432695833d5526c0d804",
              "IPY_MODEL_2ac3271ebd2a4a6e8048413c4d2871bd"
            ],
            "layout": "IPY_MODEL_747c2926d1de4da6b1ac5f24b1ef00fd"
          }
        },
        "018bbffc1a224e48a1767e3d79077430": {
          "model_module": "@jupyter-widgets/controls",
          "model_name": "HTMLModel",
          "model_module_version": "1.5.0",
          "state": {
            "_dom_classes": [],
            "_model_module": "@jupyter-widgets/controls",
            "_model_module_version": "1.5.0",
            "_model_name": "HTMLModel",
            "_view_count": null,
            "_view_module": "@jupyter-widgets/controls",
            "_view_module_version": "1.5.0",
            "_view_name": "HTMLView",
            "description": "",
            "description_tooltip": null,
            "layout": "IPY_MODEL_b4596815162c4de3b957cffd31d68445",
            "placeholder": "​",
            "style": "IPY_MODEL_1c7dc409f28a4ed2ba3dcdcf1c2eb2c3",
            "value": "100%"
          }
        },
        "3923f9a14d41432695833d5526c0d804": {
          "model_module": "@jupyter-widgets/controls",
          "model_name": "FloatProgressModel",
          "model_module_version": "1.5.0",
          "state": {
            "_dom_classes": [],
            "_model_module": "@jupyter-widgets/controls",
            "_model_module_version": "1.5.0",
            "_model_name": "FloatProgressModel",
            "_view_count": null,
            "_view_module": "@jupyter-widgets/controls",
            "_view_module_version": "1.5.0",
            "_view_name": "ProgressView",
            "bar_style": "success",
            "description": "",
            "description_tooltip": null,
            "layout": "IPY_MODEL_d379852470eb49c7942705be9d5cb520",
            "max": 20,
            "min": 0,
            "orientation": "horizontal",
            "style": "IPY_MODEL_c9403faeee6a4020987f13a458749e4d",
            "value": 20
          }
        },
        "2ac3271ebd2a4a6e8048413c4d2871bd": {
          "model_module": "@jupyter-widgets/controls",
          "model_name": "HTMLModel",
          "model_module_version": "1.5.0",
          "state": {
            "_dom_classes": [],
            "_model_module": "@jupyter-widgets/controls",
            "_model_module_version": "1.5.0",
            "_model_name": "HTMLModel",
            "_view_count": null,
            "_view_module": "@jupyter-widgets/controls",
            "_view_module_version": "1.5.0",
            "_view_name": "HTMLView",
            "description": "",
            "description_tooltip": null,
            "layout": "IPY_MODEL_ed67e29abbef4b6ea4bc7f9baa892a9d",
            "placeholder": "​",
            "style": "IPY_MODEL_7ef137d93e8840c788f168f8da0e61c5",
            "value": " 20/20 [00:24&lt;00:00,  1.19s/it]"
          }
        },
        "747c2926d1de4da6b1ac5f24b1ef00fd": {
          "model_module": "@jupyter-widgets/base",
          "model_name": "LayoutModel",
          "model_module_version": "1.2.0",
          "state": {
            "_model_module": "@jupyter-widgets/base",
            "_model_module_version": "1.2.0",
            "_model_name": "LayoutModel",
            "_view_count": null,
            "_view_module": "@jupyter-widgets/base",
            "_view_module_version": "1.2.0",
            "_view_name": "LayoutView",
            "align_content": null,
            "align_items": null,
            "align_self": null,
            "border": null,
            "bottom": null,
            "display": null,
            "flex": null,
            "flex_flow": null,
            "grid_area": null,
            "grid_auto_columns": null,
            "grid_auto_flow": null,
            "grid_auto_rows": null,
            "grid_column": null,
            "grid_gap": null,
            "grid_row": null,
            "grid_template_areas": null,
            "grid_template_columns": null,
            "grid_template_rows": null,
            "height": null,
            "justify_content": null,
            "justify_items": null,
            "left": null,
            "margin": null,
            "max_height": null,
            "max_width": null,
            "min_height": null,
            "min_width": null,
            "object_fit": null,
            "object_position": null,
            "order": null,
            "overflow": null,
            "overflow_x": null,
            "overflow_y": null,
            "padding": null,
            "right": null,
            "top": null,
            "visibility": null,
            "width": null
          }
        },
        "b4596815162c4de3b957cffd31d68445": {
          "model_module": "@jupyter-widgets/base",
          "model_name": "LayoutModel",
          "model_module_version": "1.2.0",
          "state": {
            "_model_module": "@jupyter-widgets/base",
            "_model_module_version": "1.2.0",
            "_model_name": "LayoutModel",
            "_view_count": null,
            "_view_module": "@jupyter-widgets/base",
            "_view_module_version": "1.2.0",
            "_view_name": "LayoutView",
            "align_content": null,
            "align_items": null,
            "align_self": null,
            "border": null,
            "bottom": null,
            "display": null,
            "flex": null,
            "flex_flow": null,
            "grid_area": null,
            "grid_auto_columns": null,
            "grid_auto_flow": null,
            "grid_auto_rows": null,
            "grid_column": null,
            "grid_gap": null,
            "grid_row": null,
            "grid_template_areas": null,
            "grid_template_columns": null,
            "grid_template_rows": null,
            "height": null,
            "justify_content": null,
            "justify_items": null,
            "left": null,
            "margin": null,
            "max_height": null,
            "max_width": null,
            "min_height": null,
            "min_width": null,
            "object_fit": null,
            "object_position": null,
            "order": null,
            "overflow": null,
            "overflow_x": null,
            "overflow_y": null,
            "padding": null,
            "right": null,
            "top": null,
            "visibility": null,
            "width": null
          }
        },
        "1c7dc409f28a4ed2ba3dcdcf1c2eb2c3": {
          "model_module": "@jupyter-widgets/controls",
          "model_name": "DescriptionStyleModel",
          "model_module_version": "1.5.0",
          "state": {
            "_model_module": "@jupyter-widgets/controls",
            "_model_module_version": "1.5.0",
            "_model_name": "DescriptionStyleModel",
            "_view_count": null,
            "_view_module": "@jupyter-widgets/base",
            "_view_module_version": "1.2.0",
            "_view_name": "StyleView",
            "description_width": ""
          }
        },
        "d379852470eb49c7942705be9d5cb520": {
          "model_module": "@jupyter-widgets/base",
          "model_name": "LayoutModel",
          "model_module_version": "1.2.0",
          "state": {
            "_model_module": "@jupyter-widgets/base",
            "_model_module_version": "1.2.0",
            "_model_name": "LayoutModel",
            "_view_count": null,
            "_view_module": "@jupyter-widgets/base",
            "_view_module_version": "1.2.0",
            "_view_name": "LayoutView",
            "align_content": null,
            "align_items": null,
            "align_self": null,
            "border": null,
            "bottom": null,
            "display": null,
            "flex": null,
            "flex_flow": null,
            "grid_area": null,
            "grid_auto_columns": null,
            "grid_auto_flow": null,
            "grid_auto_rows": null,
            "grid_column": null,
            "grid_gap": null,
            "grid_row": null,
            "grid_template_areas": null,
            "grid_template_columns": null,
            "grid_template_rows": null,
            "height": null,
            "justify_content": null,
            "justify_items": null,
            "left": null,
            "margin": null,
            "max_height": null,
            "max_width": null,
            "min_height": null,
            "min_width": null,
            "object_fit": null,
            "object_position": null,
            "order": null,
            "overflow": null,
            "overflow_x": null,
            "overflow_y": null,
            "padding": null,
            "right": null,
            "top": null,
            "visibility": null,
            "width": null
          }
        },
        "c9403faeee6a4020987f13a458749e4d": {
          "model_module": "@jupyter-widgets/controls",
          "model_name": "ProgressStyleModel",
          "model_module_version": "1.5.0",
          "state": {
            "_model_module": "@jupyter-widgets/controls",
            "_model_module_version": "1.5.0",
            "_model_name": "ProgressStyleModel",
            "_view_count": null,
            "_view_module": "@jupyter-widgets/base",
            "_view_module_version": "1.2.0",
            "_view_name": "StyleView",
            "bar_color": null,
            "description_width": ""
          }
        },
        "ed67e29abbef4b6ea4bc7f9baa892a9d": {
          "model_module": "@jupyter-widgets/base",
          "model_name": "LayoutModel",
          "model_module_version": "1.2.0",
          "state": {
            "_model_module": "@jupyter-widgets/base",
            "_model_module_version": "1.2.0",
            "_model_name": "LayoutModel",
            "_view_count": null,
            "_view_module": "@jupyter-widgets/base",
            "_view_module_version": "1.2.0",
            "_view_name": "LayoutView",
            "align_content": null,
            "align_items": null,
            "align_self": null,
            "border": null,
            "bottom": null,
            "display": null,
            "flex": null,
            "flex_flow": null,
            "grid_area": null,
            "grid_auto_columns": null,
            "grid_auto_flow": null,
            "grid_auto_rows": null,
            "grid_column": null,
            "grid_gap": null,
            "grid_row": null,
            "grid_template_areas": null,
            "grid_template_columns": null,
            "grid_template_rows": null,
            "height": null,
            "justify_content": null,
            "justify_items": null,
            "left": null,
            "margin": null,
            "max_height": null,
            "max_width": null,
            "min_height": null,
            "min_width": null,
            "object_fit": null,
            "object_position": null,
            "order": null,
            "overflow": null,
            "overflow_x": null,
            "overflow_y": null,
            "padding": null,
            "right": null,
            "top": null,
            "visibility": null,
            "width": null
          }
        },
        "7ef137d93e8840c788f168f8da0e61c5": {
          "model_module": "@jupyter-widgets/controls",
          "model_name": "DescriptionStyleModel",
          "model_module_version": "1.5.0",
          "state": {
            "_model_module": "@jupyter-widgets/controls",
            "_model_module_version": "1.5.0",
            "_model_name": "DescriptionStyleModel",
            "_view_count": null,
            "_view_module": "@jupyter-widgets/base",
            "_view_module_version": "1.2.0",
            "_view_name": "StyleView",
            "description_width": ""
          }
        }
      }
    }
  },
  "nbformat": 4,
  "nbformat_minor": 0
}